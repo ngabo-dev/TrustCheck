{
  "nbformat": 4,
  "nbformat_minor": 0,
  "metadata": {
    "colab": {
      "provenance": [],
      "include_colab_link": true
    },
    "kernelspec": {
      "name": "python3",
      "display_name": "Python 3"
    },
    "language_info": {
      "name": "python"
    }
  },
  "cells": [
    {
      "cell_type": "markdown",
      "metadata": {
        "id": "view-in-github",
        "colab_type": "text"
      },
      "source": [
        "<a href=\"https://colab.research.google.com/github/ngabo-dev/TrustCheck/blob/main/Summative_Intro_to_ml_%5BJean_Pierre_NIYONGABO%5D_assignment.ipynb\" target=\"_parent\"><img src=\"https://colab.research.google.com/assets/colab-badge.svg\" alt=\"Open In Colab\"/></a>"
      ]
    },
    {
      "cell_type": "markdown",
      "source": [
        "# Optimization Techniques in Machine Learning\n",
        "\n",
        "Objective: This assignment aims to explore implementation or Machine Learning Models with regularization, optimization and Error analysis  techniques used in machine learning to improve models' performance, convergence speed, and efficiency..\n",
        "\n",
        "A Notebook detailing the following\n",
        "\n",
        "* Project name\n",
        "* Clear out puts from cells\n",
        "\n",
        "\n",
        "\n",
        "\n",
        "\n",
        "\n",
        "**Instructions**\n",
        "\n",
        "1. Acquire a dataset suitable for ML tasks as per your proposal.\n",
        "2. Implement a simple machine learning model based on neural networks on the chosen dataset without any defined optimization techniques. (Check instructions)\n",
        "3. Implement and compare the model's performance after applying 3 to 4 disntict combinations regularization and optimization techniques.\n",
        "4. Discuss the results on the README file.\n",
        "5. Make predictions using test data\n",
        "7. Implement error analysis techniques and ensure there is: F1-Score, Recall, Precision, RUC a confusion matrix using plotting libraries (not verbose)\n",
        "\n",
        "Submit notebook to github repo\n",
        "\n"
      ],
      "metadata": {
        "id": "ujuLMxSvoXbg"
      }
    },
    {
      "cell_type": "markdown",
      "source": [
        "\n",
        "# Case Study and Implementation\n",
        "\n",
        "\n"
      ],
      "metadata": {
        "id": "o8VW_IzbI3od"
      }
    },
    {
      "cell_type": "code",
      "source": [
        "#Import Necessary Libraries\n",
        "\n",
        "# 📦 1. Import Libraries\n",
        "import pandas as pd\n",
        "import numpy as np\n",
        "import os\n",
        "from sklearn.model_selection import train_test_split\n",
        "from sklearn.metrics import accuracy_score, precision_score, recall_score, f1_score, classification_report, confusion_matrix, log_loss, ConfusionMatrixDisplay\n",
        "from sklearn.feature_extraction.text import TfidfVectorizer\n",
        "from sklearn.linear_model import LogisticRegression\n",
        "from sklearn.naive_bayes import MultinomialNB\n",
        "from sklearn.tree import DecisionTreeClassifier\n",
        "from xgboost import XGBClassifier\n",
        "import tensorflow as tf\n",
        "from tensorflow.keras.layers import Embedding, GlobalAveragePooling1D\n",
        "from tensorflow.keras.layers import BatchNormalization\n",
        "from tensorflow.keras.models import Sequential\n",
        "from tensorflow.keras.layers import Dense, Dropout\n",
        "from tensorflow.keras.callbacks import EarlyStopping\n",
        "from tensorflow.keras.optimizers import Adam, RMSprop\n",
        "from tensorflow.keras.regularizers import l1, l2, l1_l2\n",
        "from tensorflow.keras.models import load_model\n",
        "import xgboost as xgb\n",
        "from sklearn.model_selection import GridSearchCV\n",
        "import pickle\n",
        "import joblib\n",
        "import re\n",
        "import nltk\n",
        "from nltk.corpus import stopwords\n",
        "from nltk.stem import WordNetLemmatizer\n",
        "from sklearn.svm import LinearSVC\n",
        "import matplotlib.pyplot as plt\n",
        "\n",
        "\n",
        "# 📁 Create save directory\n",
        "os.makedirs(\"saved_models\", exist_ok=True)\n"
      ],
      "metadata": {
        "id": "wGCnpzs9M4Fd"
      },
      "execution_count": null,
      "outputs": []
    },
    {
      "cell_type": "markdown",
      "source": [
        "# The Dataset\n",
        ">\n",
        "***📌 Problem Statement***\n",
        "The rise of misinformation and fake news online has made it increasingly difficult to identify which news is trustworthy. This project aims to build a machine learning model that can automatically classify news articles as either real or fake.\n",
        "\n",
        "**📄 Dataset Description**\n",
        "The dataset used is titled \"Fake or Real News\", which contains labeled news articles. Each row in the dataset includes:\n",
        "\n",
        "Title: The headline of the news article\n",
        "\n",
        "Text: The full news content\n",
        "\n",
        "Label: Either FAKE or REAL, indicating the truthfulness of the article\n"
      ],
      "metadata": {
        "id": "M1FN7bFeIxfH"
      }
    },
    {
      "cell_type": "code",
      "source": [
        "#TO DO: Load Data (Seprate into: Train, Validation and test sets)\n",
        "\n",
        "# Load the dataset\n",
        "df = pd.read_csv('fake_news_dataset.csv')\n",
        "\n",
        "# Display the first few rows of the dataframe\n",
        "print(df.head())\n",
        "\n",
        "# Display basic information about the dataframe\n",
        "print(df.info())\n",
        "\n",
        "# Display the value counts of the 'label' column to check for class imbalance\n",
        "print(df['label'].value_counts())"
      ],
      "metadata": {
        "id": "nas-T7xwPIso",
        "colab": {
          "base_uri": "https://localhost:8080/"
        },
        "outputId": "3eae06fd-4d40-469e-f584-bcae4fb1e1ed"
      },
      "execution_count": null,
      "outputs": [
        {
          "output_type": "stream",
          "name": "stdout",
          "text": [
            "   id                                              title  \\\n",
            "0   0  education information update community technol...   \n",
            "1   1  official sports report information update educ...   \n",
            "2   2       sports update research news education sports   \n",
            "3   3  event economy government development technolog...   \n",
            "4   4  culture research health development developmen...   \n",
            "\n",
            "                                                text label  \n",
            "0  source community community policy technology g...  real  \n",
            "1  development technology update government analy...  real  \n",
            "2  news development technology community source s...  fake  \n",
            "3  news government economy update analysis govern...  real  \n",
            "4  community education news news information rese...  real  \n",
            "<class 'pandas.core.frame.DataFrame'>\n",
            "RangeIndex: 20000 entries, 0 to 19999\n",
            "Data columns (total 4 columns):\n",
            " #   Column  Non-Null Count  Dtype \n",
            "---  ------  --------------  ----- \n",
            " 0   id      20000 non-null  int64 \n",
            " 1   title   20000 non-null  object\n",
            " 2   text    20000 non-null  object\n",
            " 3   label   20000 non-null  object\n",
            "dtypes: int64(1), object(3)\n",
            "memory usage: 625.1+ KB\n",
            "None\n",
            "label\n",
            "real    10061\n",
            "fake     9939\n",
            "Name: count, dtype: int64\n"
          ]
        }
      ]
    },
    {
      "cell_type": "code",
      "source": [
        "nltk.download('stopwords')\n",
        "nltk.download('wordnet')\n",
        "\n",
        "stop_words = set(stopwords.words('english'))\n",
        "lemmatizer = WordNetLemmatizer()\n",
        "\n",
        "def preprocess_text(text):\n",
        "    # Remove non-alphabetic characters and lowercase\n",
        "    text = re.sub('[^a-zA-Z]', ' ', text)\n",
        "    text = text.lower()\n",
        "    # Tokenize\n",
        "    words = text.split()\n",
        "    # Remove stopwords and lemmatize\n",
        "    words = [lemmatizer.lemmatize(word) for word in words if word not in stop_words]\n",
        "    return ' '.join(words)\n",
        "\n",
        "# Assuming df is your DataFrame loaded from 'fake_news_dataset.csv'\n",
        "df['combined_text'] = (df['title'] + \" \" + df['text']).apply(preprocess_text)"
      ],
      "metadata": {
        "colab": {
          "base_uri": "https://localhost:8080/"
        },
        "id": "8yrpOjdDvSuO",
        "outputId": "3b50a052-6d33-49ed-84d6-6d42e471b257"
      },
      "execution_count": null,
      "outputs": [
        {
          "output_type": "stream",
          "name": "stderr",
          "text": [
            "[nltk_data] Downloading package stopwords to /root/nltk_data...\n",
            "[nltk_data]   Package stopwords is already up-to-date!\n",
            "[nltk_data] Downloading package wordnet to /root/nltk_data...\n",
            "[nltk_data]   Package wordnet is already up-to-date!\n"
          ]
        }
      ]
    },
    {
      "cell_type": "markdown",
      "source": [
        "# Convert 'real' and 'fake' to 0 and 1:"
      ],
      "metadata": {
        "id": "ZJMmO1IlvjlF"
      }
    },
    {
      "cell_type": "code",
      "source": [
        "df['label'] = df['label'].map({'real': 0, 'fake': 1})"
      ],
      "metadata": {
        "id": "azEt8AgJvpzr"
      },
      "execution_count": null,
      "outputs": []
    },
    {
      "cell_type": "markdown",
      "source": [
        "# Split Data into Train, Validation, and Test Sets"
      ],
      "metadata": {
        "id": "fVOtPS05NKCg"
      }
    },
    {
      "cell_type": "code",
      "source": [
        "from sklearn.model_selection import train_test_split\n",
        "\n",
        "X = df['combined_text']\n",
        "y = df['label']\n",
        "\n",
        "# First split: train+val and test (15%)\n",
        "X_train_val, X_test, y_train_val, y_test = train_test_split(\n",
        "    X, y, test_size=0.15, stratify=y, random_state=42)\n",
        "\n",
        "# Second split: train and val (15% of original data)\n",
        "X_train, X_val, y_train, y_val = train_test_split(\n",
        "    X_train_val, y_train_val, test_size=0.1765, stratify=y_train_val, random_state=42)"
      ],
      "metadata": {
        "id": "Z4XEoLGyNKqq"
      },
      "execution_count": null,
      "outputs": []
    },
    {
      "cell_type": "markdown",
      "source": [
        "# Vectorize Text with TF-IDF"
      ],
      "metadata": {
        "id": "qGXYTyQBwdMi"
      }
    },
    {
      "cell_type": "code",
      "source": [
        "from sklearn.feature_extraction.text import TfidfVectorizer\n",
        "\n",
        "vectorizer = TfidfVectorizer(max_features=10000)\n",
        "X_train_tfidf = vectorizer.fit_transform(X_train).toarray()\n",
        "X_val_tfidf = vectorizer.transform(X_val).toarray()\n",
        "X_test_tfidf = vectorizer.transform(X_test).toarray()\n",
        "\n",
        "input_dim = X_train_tfidf.shape[1]\n",
        "print(f\"Number of features after TF-IDF vectorization: {input_dim}\")"
      ],
      "metadata": {
        "colab": {
          "base_uri": "https://localhost:8080/"
        },
        "id": "i_tceRzwwfdH",
        "outputId": "91e9ae04-8178-4bfa-94e7-d94c4f324932"
      },
      "execution_count": null,
      "outputs": [
        {
          "output_type": "stream",
          "name": "stdout",
          "text": [
            "Number of features after TF-IDF vectorization: 20\n"
          ]
        }
      ]
    },
    {
      "cell_type": "markdown",
      "source": [
        "#SECTION 1: Model Architecture:\n",
        "\n",
        "\n",
        "\n",
        "```\n",
        "TODO: Insert an image with the Model architecture here.Replace the image Below\n",
        "```\n",
        "> <img src=\"https://miro.medium.com/v2/resize:fit:640/format:webp/1*v1ohAG82xmU6WGsG2hoE8g.png\" alt=\"?\" style=\"width:25px\"/>\n",
        "\n",
        "\n",
        "\n"
      ],
      "metadata": {
        "id": "ve4AiQmGMzIN"
      }
    },
    {
      "cell_type": "markdown",
      "source": [
        "# Classical ML Model (SVM with GridSearchCV)"
      ],
      "metadata": {
        "id": "YwMz-qTH9LJ9"
      }
    },
    {
      "cell_type": "code",
      "source": [
        "# --- Step 2: Classical ML Model (LinearSVC with GridSearchCV) ---\n",
        "\n",
        "# Define LinearSVC model\n",
        "linear_svm = LinearSVC(max_iter=5000)\n",
        "\n",
        "# Define a small hyperparameter grid\n",
        "param_grid = {\n",
        "    'C': [0.1, 1, 10]\n",
        "}\n",
        "\n",
        "# Setup GridSearchCV with 5-fold CV\n",
        "grid_search = GridSearchCV(linear_svm, param_grid=param_grid, cv=5, scoring='accuracy', verbose=2, n_jobs=-1)\n",
        "\n",
        "# Fit GridSearchCV on training data\n",
        "grid_search.fit(X_train_tfidf, y_train)\n",
        "\n",
        "# Print grid search results\n",
        "print(\"Grid Search CV Results:\")\n",
        "for mean_score, std_score, params in zip(grid_search.cv_results_['mean_test_score'],\n",
        "                                        grid_search.cv_results_['std_test_score'],\n",
        "                                        grid_search.cv_results_['params']):\n",
        "    print(f\"Accuracy: {mean_score:.4f} (+/-{std_score:.4f}) for {params}\")\n",
        "\n",
        "print(\"\\nBest Hyperparameters Found:\")\n",
        "print(grid_search.best_params_)\n",
        "print(f\"Best Cross-Validation Accuracy: {grid_search.best_score_:.4f}\")\n",
        "\n",
        "# Evaluate best model on test set\n",
        "best_svm = grid_search.best_estimator_\n",
        "y_test_pred = best_svm.predict(X_test_tfidf)\n",
        "\n",
        "# Calculate evaluation metrics\n",
        "test_accuracy = accuracy_score(y_test, y_test_pred)\n",
        "test_precision = precision_score(y_test, y_test_pred)\n",
        "test_recall = recall_score(y_test, y_test_pred)\n",
        "test_f1 = f1_score(y_test, y_test_pred)\n",
        "\n",
        "print(\"\\nTest Set Performance Metrics:\")\n",
        "print(f\"Accuracy: {test_accuracy:.4f}\")\n",
        "print(f\"Precision: {test_precision:.4f}\")\n",
        "print(f\"Recall: {test_recall:.4f}\")\n",
        "print(f\"F1-score: {test_f1:.4f}\")\n",
        "\n",
        "# Confusion matrix and classification report\n",
        "print(\"\\nConfusion Matrix:\")\n",
        "print(confusion_matrix(y_test, y_test_pred))\n",
        "\n",
        "print(\"\\nClassification Report:\")\n",
        "print(classification_report(y_test, y_test_pred, digits=4))\n",
        "\n",
        "# Save the best SVM model to a pickle file\n",
        "with open('saved_models/linear_svm_tuned.pkl', 'wb') as f:\n",
        "    pickle.dump(best_svm, f)\n",
        "\n",
        "print(\"LinearSVC model saved as 'saved_models/linear_svm_tuned.pkl'\")"
      ],
      "metadata": {
        "colab": {
          "base_uri": "https://localhost:8080/"
        },
        "id": "ETmqUOpR9Grm",
        "outputId": "2127fb38-627c-4a5b-e289-be516dd92691"
      },
      "execution_count": null,
      "outputs": [
        {
          "output_type": "stream",
          "name": "stdout",
          "text": [
            "Fitting 5 folds for each of 3 candidates, totalling 15 fits\n",
            "Grid Search CV Results:\n",
            "Accuracy: 0.6959 (+/-0.0085) for {'C': 0.1}\n",
            "Accuracy: 0.6940 (+/-0.0076) for {'C': 1}\n",
            "Accuracy: 0.6936 (+/-0.0076) for {'C': 10}\n",
            "\n",
            "Best Hyperparameters Found:\n",
            "{'C': 0.1}\n",
            "Best Cross-Validation Accuracy: 0.6959\n",
            "\n",
            "Test Set Performance Metrics:\n",
            "Accuracy: 0.6903\n",
            "Precision: 0.6968\n",
            "Recall: 0.6673\n",
            "F1-score: 0.6817\n",
            "\n",
            "Confusion Matrix:\n",
            "[[1076  433]\n",
            " [ 496  995]]\n",
            "\n",
            "Classification Report:\n",
            "              precision    recall  f1-score   support\n",
            "\n",
            "           0     0.6845    0.7131    0.6985      1509\n",
            "           1     0.6968    0.6673    0.6817      1491\n",
            "\n",
            "    accuracy                         0.6903      3000\n",
            "   macro avg     0.6906    0.6902    0.6901      3000\n",
            "weighted avg     0.6906    0.6903    0.6902      3000\n",
            "\n",
            "LinearSVC model saved as 'saved_models/linear_svm_tuned.pkl'\n"
          ]
        }
      ]
    },
    {
      "cell_type": "markdown",
      "source": [
        "#Simple Neural Network Model (Default Settings, No Optimization)"
      ],
      "metadata": {
        "id": "-gxBwXhIA91I"
      }
    },
    {
      "cell_type": "code",
      "source": [
        "# Input dimension from TF-IDF features\n",
        "input_dim = X_train_tfidf.shape[1]\n",
        "\n",
        "# Define simple neural network model\n",
        "def simple_nn_model(input_dim):\n",
        "    model = Sequential()\n",
        "    # Input layer + one hidden layer\n",
        "    model.add(Dense(64, activation='relu', input_dim=input_dim))\n",
        "    # Output layer for binary classification\n",
        "    model.add(Dense(1, activation='sigmoid'))\n",
        "\n",
        "    # Compile model using default optimizer (Adam), default learning rate, no early stopping\n",
        "    model.compile(loss='binary_crossentropy', metrics=['accuracy'])\n",
        "    return model\n",
        "\n",
        "# Instantiate the model\n",
        "model = simple_nn_model(input_dim)\n",
        "\n",
        "# Train the model (no callbacks, default optimizer, verbose=2 for epoch info)\n",
        "history = model.fit(\n",
        "    X_train_tfidf, y_train,\n",
        "    validation_data=(X_val_tfidf, y_val),\n",
        "    epochs=20,\n",
        "    batch_size=32,\n",
        "    verbose=2\n",
        ")\n",
        "\n",
        "model.save('saved_models/simple_nn_model.keras')\n",
        "print(\"Keras model saved as 'saved_models/simple_nn_model.keras'\")\n",
        "\n",
        "# Function to print final accuracy and plot loss curve (reuse if you have it)\n",
        "def print_final_accuracy(history):\n",
        "    train_acc = history.history.get('accuracy')\n",
        "    val_acc = history.history.get('val_accuracy')\n",
        "    print(f\"Final Training Accuracy: {train_acc[-1]:.4f}\")\n",
        "    print(f\"Final Validation Accuracy: {val_acc[-1]:.4f}\")\n",
        "\n",
        "import matplotlib.pyplot as plt\n",
        "\n",
        "def loss_curve_plot(history):\n",
        "    epochs = range(1, len(history.history['loss']) + 1)\n",
        "    plt.plot(epochs, history.history['loss'], 'bo-', label='Training loss')\n",
        "    plt.plot(epochs, history.history['val_loss'], 'ro-', label='Validation loss')\n",
        "    plt.title('Training and Validation Loss')\n",
        "    plt.xlabel('Epochs')\n",
        "    plt.ylabel('Loss')\n",
        "    plt.legend()\n",
        "    plt.show()\n",
        "\n",
        "# Print accuracy and plot loss curve\n",
        "print_final_accuracy(history)\n",
        "loss_curve_plot(history)\n",
        "\n",
        "# Evaluate on test set\n",
        "y_test_prob = model.predict(X_test_tfidf)\n",
        "y_test_pred = (y_test_prob > 0.5).astype(int).flatten()\n",
        "\n",
        "from sklearn.metrics import accuracy_score, precision_score, recall_score, f1_score, confusion_matrix, classification_report\n",
        "\n",
        "test_accuracy = accuracy_score(y_test, y_test_pred)\n",
        "test_precision = precision_score(y_test, y_test_pred)\n",
        "test_recall = recall_score(y_test, y_test_pred)\n",
        "test_f1 = f1_score(y_test, y_test_pred)\n",
        "\n",
        "print(\"\\nTest Set Performance Metrics:\")\n",
        "print(f\"Accuracy: {test_accuracy:.4f}\")\n",
        "print(f\"Precision: {test_precision:.4f}\")\n",
        "print(f\"Recall: {test_recall:.4f}\")\n",
        "print(f\"F1-score: {test_f1:.4f}\")\n",
        "\n",
        "print(\"\\nConfusion Matrix:\")\n",
        "print(confusion_matrix(y_test, y_test_pred))\n",
        "\n",
        "print(\"\\nClassification Report:\")\n",
        "print(classification_report(y_test, y_test_pred, digits=4))"
      ],
      "metadata": {
        "colab": {
          "base_uri": "https://localhost:8080/",
          "height": 1000
        },
        "id": "dRS-Bxk3A-ks",
        "outputId": "444f86e1-ccf2-4062-d7df-c0a6b6ff5398"
      },
      "execution_count": null,
      "outputs": [
        {
          "output_type": "stream",
          "name": "stdout",
          "text": [
            "Epoch 1/20\n"
          ]
        },
        {
          "output_type": "stream",
          "name": "stderr",
          "text": [
            "/usr/local/lib/python3.11/dist-packages/keras/src/layers/core/dense.py:87: UserWarning: Do not pass an `input_shape`/`input_dim` argument to a layer. When using Sequential models, prefer using an `Input(shape)` object as the first layer in the model instead.\n",
            "  super().__init__(activity_regularizer=activity_regularizer, **kwargs)\n"
          ]
        },
        {
          "output_type": "stream",
          "name": "stdout",
          "text": [
            "438/438 - 2s - 4ms/step - accuracy: 0.5578 - loss: 0.6864 - val_accuracy: 0.5561 - val_loss: 0.6801\n",
            "Epoch 2/20\n",
            "438/438 - 1s - 3ms/step - accuracy: 0.6174 - loss: 0.6733 - val_accuracy: 0.6321 - val_loss: 0.6673\n",
            "Epoch 3/20\n",
            "438/438 - 1s - 3ms/step - accuracy: 0.6443 - loss: 0.6602 - val_accuracy: 0.6541 - val_loss: 0.6538\n",
            "Epoch 4/20\n",
            "438/438 - 2s - 5ms/step - accuracy: 0.6627 - loss: 0.6465 - val_accuracy: 0.6708 - val_loss: 0.6406\n",
            "Epoch 5/20\n",
            "438/438 - 1s - 2ms/step - accuracy: 0.6776 - loss: 0.6323 - val_accuracy: 0.6738 - val_loss: 0.6270\n",
            "Epoch 6/20\n",
            "438/438 - 1s - 2ms/step - accuracy: 0.6844 - loss: 0.6190 - val_accuracy: 0.6778 - val_loss: 0.6143\n",
            "Epoch 7/20\n",
            "438/438 - 1s - 2ms/step - accuracy: 0.6908 - loss: 0.6079 - val_accuracy: 0.6804 - val_loss: 0.6064\n",
            "Epoch 8/20\n",
            "438/438 - 1s - 3ms/step - accuracy: 0.6908 - loss: 0.5987 - val_accuracy: 0.6684 - val_loss: 0.6040\n",
            "Epoch 9/20\n",
            "438/438 - 1s - 3ms/step - accuracy: 0.6923 - loss: 0.5921 - val_accuracy: 0.6848 - val_loss: 0.5934\n",
            "Epoch 10/20\n",
            "438/438 - 1s - 3ms/step - accuracy: 0.6977 - loss: 0.5867 - val_accuracy: 0.6801 - val_loss: 0.5931\n",
            "Epoch 11/20\n",
            "438/438 - 1s - 2ms/step - accuracy: 0.6975 - loss: 0.5817 - val_accuracy: 0.6908 - val_loss: 0.5875\n",
            "Epoch 12/20\n",
            "438/438 - 2s - 4ms/step - accuracy: 0.6965 - loss: 0.5792 - val_accuracy: 0.6904 - val_loss: 0.5864\n",
            "Epoch 13/20\n",
            "438/438 - 1s - 3ms/step - accuracy: 0.6985 - loss: 0.5759 - val_accuracy: 0.6871 - val_loss: 0.5831\n",
            "Epoch 14/20\n",
            "438/438 - 2s - 5ms/step - accuracy: 0.6998 - loss: 0.5743 - val_accuracy: 0.6924 - val_loss: 0.5830\n",
            "Epoch 15/20\n",
            "438/438 - 1s - 3ms/step - accuracy: 0.7046 - loss: 0.5723 - val_accuracy: 0.6908 - val_loss: 0.5818\n",
            "Epoch 16/20\n",
            "438/438 - 1s - 3ms/step - accuracy: 0.7018 - loss: 0.5720 - val_accuracy: 0.6781 - val_loss: 0.5864\n",
            "Epoch 17/20\n",
            "438/438 - 2s - 4ms/step - accuracy: 0.7043 - loss: 0.5705 - val_accuracy: 0.6961 - val_loss: 0.5831\n",
            "Epoch 18/20\n",
            "438/438 - 1s - 2ms/step - accuracy: 0.7032 - loss: 0.5701 - val_accuracy: 0.6971 - val_loss: 0.5834\n",
            "Epoch 19/20\n",
            "438/438 - 1s - 3ms/step - accuracy: 0.7038 - loss: 0.5686 - val_accuracy: 0.6868 - val_loss: 0.5834\n",
            "Epoch 20/20\n",
            "438/438 - 1s - 2ms/step - accuracy: 0.7040 - loss: 0.5681 - val_accuracy: 0.6924 - val_loss: 0.5805\n",
            "Keras model saved as 'saved_models/simple_nn_model.keras'\n",
            "Final Training Accuracy: 0.7040\n",
            "Final Validation Accuracy: 0.6924\n"
          ]
        },
        {
          "output_type": "display_data",
          "data": {
            "text/plain": [
              "<Figure size 640x480 with 1 Axes>"
            ],
            "image/png": "[encoded data removed]"
          },
          "metadata": {}
        },
        {
          "output_type": "stream",
          "name": "stdout",
          "text": [
            "\u001b[1m94/94\u001b[0m \u001b[32m━━━━━━━━━━━━━━━━━━━━\u001b[0m\u001b[37m\u001b[0m \u001b[1m0s\u001b[0m 1ms/step\n",
            "\n",
            "Test Set Performance Metrics:\n",
            "Accuracy: 0.6800\n",
            "Precision: 0.6887\n",
            "Recall: 0.6499\n",
            "F1-score: 0.6687\n",
            "\n",
            "Confusion Matrix:\n",
            "[[1071  438]\n",
            " [ 522  969]]\n",
            "\n",
            "Classification Report:\n",
            "              precision    recall  f1-score   support\n",
            "\n",
            "           0     0.6723    0.7097    0.6905      1509\n",
            "           1     0.6887    0.6499    0.6687      1491\n",
            "\n",
            "    accuracy                         0.6800      3000\n",
            "   macro avg     0.6805    0.6798    0.6796      3000\n",
            "weighted avg     0.6805    0.6800    0.6797      3000\n",
            "\n"
          ]
        }
      ]
    },
    {
      "cell_type": "code",
      "source": [
        "# Define a smaller hyperparameter grid for faster tuning\n",
        "param_grid = {\n",
        "    'max_depth': [3, 5],\n",
        "    'learning_rate': [0.1, 0.2],\n",
        "    'n_estimators': [50, 100],\n",
        "    'subsample': [0.8],\n",
        "    'colsample_bytree': [0.8]\n",
        "}\n",
        "\n",
        "xgb_model = XGBClassifier(use_label_encoder=False, eval_metric='logloss', random_state=42)\n",
        "\n",
        "grid_search = GridSearchCV(\n",
        "    estimator=xgb_model,\n",
        "    param_grid=param_grid,\n",
        "    scoring='f1',\n",
        "    cv=3,\n",
        "    n_jobs=-1,\n",
        "    verbose=2\n",
        ")\n",
        "\n",
        "grid_search.fit(X_train_tfidf, y_train)\n",
        "\n",
        "print(f\"Best parameters: {grid_search.best_params_}\")\n",
        "print(f\"Best F1 score: {grid_search.best_score_:.4f}\")\n",
        "\n",
        "best_model = grid_search.best_estimator_\n",
        "\n",
        "# Save the model to a pickle file\n",
        "with open('saved_models/xgb_model.pkl', 'wb') as f:\n",
        "    pickle.dump(xgb_model, f)\n",
        "\n",
        "print(\"XGBoost model saved as 'saved_models/xgb_model.pkl'\")"
      ],
      "metadata": {
        "colab": {
          "base_uri": "https://localhost:8080/"
        },
        "id": "MnEcNTN2nhU6",
        "outputId": "c7abff4c-5342-4e9f-a1f1-fde13c7fdc15"
      },
      "execution_count": null,
      "outputs": [
        {
          "output_type": "stream",
          "name": "stdout",
          "text": [
            "Fitting 3 folds for each of 8 candidates, totalling 24 fits\n"
          ]
        },
        {
          "output_type": "stream",
          "name": "stderr",
          "text": [
            "/usr/local/lib/python3.11/dist-packages/xgboost/core.py:158: UserWarning: [20:02:30] WARNING: /workspace/src/learner.cc:740: \n",
            "Parameters: { \"use_label_encoder\" } are not used.\n",
            "\n",
            "  warnings.warn(smsg, UserWarning)\n"
          ]
        },
        {
          "output_type": "stream",
          "name": "stdout",
          "text": [
            "Best parameters: {'colsample_bytree': 0.8, 'learning_rate': 0.2, 'max_depth': 5, 'n_estimators': 100, 'subsample': 0.8}\n",
            "Best F1 score: 0.9941\n",
            "XGBoost model saved as 'saved_models/xgb_model.pkl'\n"
          ]
        }
      ]
    },
    {
      "cell_type": "markdown",
      "source": [
        "#Task: Define a function that creates models without and With specified Optimization techniques\n"
      ],
      "metadata": {
        "id": "QR4BNYoUMzMP"
      }
    },
    {
      "cell_type": "code",
      "source": [
        "# Define a flexible model function supporting optimization and regularization\n",
        "def define_model(optimization='adam',\n",
        "                 regularization_datatype=None,\n",
        "                 early_stopping=True,\n",
        "                 dropout=0.3,\n",
        "                 learning_rate=0.001,\n",
        "                 num_layers=3,\n",
        "                 units_per_layer=[128, 64, 32],\n",
        "                 input_dim=None):\n",
        "    \"\"\"\n",
        "    Defines and compiles a Keras Sequential model with specified optimizer, regularization, dropout, batch normalization, and early stopping.\n",
        "\n",
        "    Parameters:\n",
        "    - optimization (str): 'adam' or 'rmsprop'\n",
        "    - regularization_datatype (str or None): 'l1', 'l2', 'l1_l2', or None\n",
        "    - early_stopping (bool): Whether to use EarlyStopping callback during training\n",
        "    - dropout (float): Dropout rate between 0 and 1\n",
        "    - learning_rate (float): Learning rate for the optimizer\n",
        "    - num_layers (int): Number of hidden layers\n",
        "    - units_per_layer (list of int): Number of units in each hidden layer\n",
        "    - input_dim (int): Number of features in input data (required for first layer)\n",
        "\n",
        "    Returns:\n",
        "    - model (keras.Model): Compiled Keras model\n",
        "    - callbacks (list): List of callbacks to use during training (empty if early_stopping=False)\n",
        "    \"\"\"\n",
        "\n",
        "    # Setup regularizer\n",
        "    if regularization_datatype == 'l1':\n",
        "        regularizer = l1(0.01)\n",
        "    elif regularization_datatype == 'l2':\n",
        "        regularizer = l2(0.01)\n",
        "    elif regularization_datatype == 'l1_l2':\n",
        "        regularizer = l1_l2(l1=0.01, l2=0.01)\n",
        "    else:\n",
        "        regularizer = None\n",
        "\n",
        "    # Choose optimizer\n",
        "    if optimization is None or optimization.lower() == 'adam':\n",
        "        optimizer = Adam(learning_rate=learning_rate)\n",
        "    elif optimization.lower() == 'rmsprop':\n",
        "        optimizer = RMSprop(learning_rate=learning_rate)\n",
        "    else:\n",
        "        raise ValueError(\"Unsupported optimizer. Choose 'adam' or 'rmsprop'.\")\n",
        "\n",
        "    model = Sequential()\n",
        "    # Input + first hidden layer\n",
        "    model.add(Dense(units_per_layer[0], activation='relu', kernel_regularizer=regularizer, input_dim=input_dim))\n",
        "    model.add(BatchNormalization())\n",
        "    model.add(Dropout(dropout))\n",
        "\n",
        "    # Additional hidden layers\n",
        "    for i in range(1, num_layers - 1):\n",
        "        model.add(Dense(units_per_layer[i], activation='relu', kernel_regularizer=regularizer))\n",
        "        model.add(BatchNormalization())\n",
        "        model.add(Dropout(dropout))\n",
        "\n",
        "    # Output layer\n",
        "    model.add(Dense(1, activation='sigmoid'))\n",
        "\n",
        "    model.compile(optimizer=optimizer, loss='binary_crossentropy', metrics=['accuracy'])\n",
        "\n",
        "    callbacks = []\n",
        "    if early_stopping:\n",
        "        callbacks.append(EarlyStopping(monitor='val_loss', patience=5, restore_best_weights=True))\n",
        "\n",
        "    return model, callbacks"
      ],
      "metadata": {
        "id": "gGtPmYb_SDHy"
      },
      "execution_count": null,
      "outputs": []
    },
    {
      "cell_type": "markdown",
      "source": [
        "# Task: Print out the Final Model Accuracy and plot the Loss curve"
      ],
      "metadata": {
        "id": "02yDBcZnFgu6"
      }
    },
    {
      "cell_type": "code",
      "source": [
        "# Function to plot loss curves\n",
        "def loss_curve_plot(history):\n",
        "    epochs = range(1, len(history.history['loss']) + 1)\n",
        "    plt.plot(epochs, history.history['loss'], 'bo-', label='Training loss')\n",
        "    plt.plot(epochs, history.history['val_loss'], 'ro-', label='Validation loss')\n",
        "    plt.title('Training and Validation Loss')\n",
        "    plt.xlabel('Epochs')\n",
        "    plt.ylabel('Loss')\n",
        "    plt.legend()\n",
        "    plt.show()\n",
        "\n",
        "# Function to print evaluation metrics\n",
        "def print_evaluation_metrics(y_true, y_pred, model_name=\"Model\"):\n",
        "    acc = accuracy_score(y_true, y_pred)\n",
        "    prec = precision_score(y_true, y_pred)\n",
        "    rec = recall_score(y_true, y_pred)\n",
        "    f1 = f1_score(y_true, y_pred)\n",
        "    print(f\"\\n{model_name} Performance on Test Set:\")\n",
        "    print(f\"Accuracy: {acc:.4f}\")\n",
        "    print(f\"Precision: {prec:.4f}\")\n",
        "    print(f\"Recall: {rec:.4f}\")\n",
        "    print(f\"F1-score: {f1:.4f}\")\n",
        "    print(\"Confusion Matrix:\")\n",
        "    print(confusion_matrix(y_true, y_pred))\n",
        "    print(\"\\nClassification Report:\")\n",
        "    print(classification_report(y_true, y_pred, digits=4))"
      ],
      "metadata": {
        "id": "AH6wdM3tFieq"
      },
      "execution_count": null,
      "outputs": []
    },
    {
      "cell_type": "markdown",
      "source": [
        "# SECTION 2: Optimization and Regularization Combinations\n",
        "At this point you should now create models that combine various optimization techniques\n",
        "As done before make sure to plot out the loss curve and the accuracy and loss in verbose"
      ],
      "metadata": {
        "id": "9hc6k2taT0_n"
      }
    },
    {
      "cell_type": "code",
      "source": [
        "# Train and evaluate multiple optimized models with different configurations\n",
        "\n",
        "# Common variables\n",
        "input_dim = X_train_tfidf.shape[1]\n",
        "epochs = 20\n",
        "batch_size = 32"
      ],
      "metadata": {
        "id": "YXK982C7GYUL"
      },
      "execution_count": null,
      "outputs": []
    },
    {
      "cell_type": "code",
      "source": [
        "# Instance 1: Adam optimizer, no regularization, no early stopping, no dropout (baseline optimized)\n",
        "model_1, callbacks_1 = define_model(optimization='adam', regularization_datatype=None, early_stopping=False,\n",
        "                                    dropout=0.0, learning_rate=0.001, num_layers=5,\n",
        "                                    units_per_layer=[256, 128, 64, 32, 16], input_dim=input_dim)\n",
        "history_1 = model_1.fit(X_train_tfidf, y_train, validation_data=(X_val_tfidf, y_val), epochs=epochs,\n",
        "                        batch_size=batch_size, verbose=2, callbacks=callbacks_1)\n",
        "y_pred_prob_1 = model_1.predict(X_test_tfidf)\n",
        "y_pred_1 = (y_pred_prob_1 > 0.5).astype(int).flatten()\n",
        "print_evaluation_metrics(y_test, y_pred_1, \"Model 1 (Adam, no reg, no early stopping)\")\n",
        "loss_curve_plot(history_1)\n",
        "\n",
        "model_1.save('saved_models/model_1_adam_no_reg.keras')"
      ],
      "metadata": {
        "colab": {
          "base_uri": "https://localhost:8080/",
          "height": 1000
        },
        "id": "aa4UAi_OGcsa",
        "outputId": "690267c2-2f13-485c-a249-7c7aa56b2ada"
      },
      "execution_count": null,
      "outputs": [
        {
          "output_type": "stream",
          "name": "stdout",
          "text": [
            "Epoch 1/20\n"
          ]
        },
        {
          "output_type": "stream",
          "name": "stderr",
          "text": [
            "/usr/local/lib/python3.11/dist-packages/keras/src/layers/core/dense.py:87: UserWarning: Do not pass an `input_shape`/`input_dim` argument to a layer. When using Sequential models, prefer using an `Input(shape)` object as the first layer in the model instead.\n",
            "  super().__init__(activity_regularizer=activity_regularizer, **kwargs)\n"
          ]
        },
        {
          "output_type": "stream",
          "name": "stdout",
          "text": [
            "438/438 - 6s - 14ms/step - accuracy: 0.6353 - loss: 0.6562 - val_accuracy: 0.5342 - val_loss: 0.7446\n",
            "Epoch 2/20\n",
            "438/438 - 2s - 4ms/step - accuracy: 0.6876 - loss: 0.5930 - val_accuracy: 0.6738 - val_loss: 0.6053\n",
            "Epoch 3/20\n",
            "438/438 - 2s - 5ms/step - accuracy: 0.6948 - loss: 0.5785 - val_accuracy: 0.6791 - val_loss: 0.6014\n",
            "Epoch 4/20\n",
            "438/438 - 3s - 6ms/step - accuracy: 0.7014 - loss: 0.5718 - val_accuracy: 0.6714 - val_loss: 0.6072\n",
            "Epoch 5/20\n",
            "438/438 - 3s - 6ms/step - accuracy: 0.7111 - loss: 0.5641 - val_accuracy: 0.6791 - val_loss: 0.6019\n",
            "Epoch 6/20\n",
            "438/438 - 1s - 3ms/step - accuracy: 0.7128 - loss: 0.5571 - val_accuracy: 0.6851 - val_loss: 0.6079\n",
            "Epoch 7/20\n",
            "438/438 - 3s - 7ms/step - accuracy: 0.7223 - loss: 0.5486 - val_accuracy: 0.6784 - val_loss: 0.6043\n",
            "Epoch 8/20\n",
            "438/438 - 2s - 5ms/step - accuracy: 0.7201 - loss: 0.5461 - val_accuracy: 0.6791 - val_loss: 0.6109\n",
            "Epoch 9/20\n",
            "438/438 - 2s - 5ms/step - accuracy: 0.7220 - loss: 0.5398 - val_accuracy: 0.6721 - val_loss: 0.6179\n",
            "Epoch 10/20\n",
            "438/438 - 3s - 6ms/step - accuracy: 0.7359 - loss: 0.5333 - val_accuracy: 0.6761 - val_loss: 0.6148\n",
            "Epoch 11/20\n",
            "438/438 - 1s - 3ms/step - accuracy: 0.7368 - loss: 0.5255 - val_accuracy: 0.6778 - val_loss: 0.6178\n",
            "Epoch 12/20\n",
            "438/438 - 2s - 3ms/step - accuracy: 0.7426 - loss: 0.5166 - val_accuracy: 0.6691 - val_loss: 0.6423\n",
            "Epoch 13/20\n",
            "438/438 - 1s - 3ms/step - accuracy: 0.7500 - loss: 0.5087 - val_accuracy: 0.6674 - val_loss: 0.6390\n",
            "Epoch 14/20\n",
            "438/438 - 3s - 7ms/step - accuracy: 0.7548 - loss: 0.4976 - val_accuracy: 0.6664 - val_loss: 0.6422\n",
            "Epoch 15/20\n",
            "438/438 - 1s - 3ms/step - accuracy: 0.7621 - loss: 0.4862 - val_accuracy: 0.6594 - val_loss: 0.6448\n",
            "Epoch 16/20\n",
            "438/438 - 3s - 6ms/step - accuracy: 0.7691 - loss: 0.4762 - val_accuracy: 0.6661 - val_loss: 0.6791\n",
            "Epoch 17/20\n",
            "438/438 - 1s - 3ms/step - accuracy: 0.7750 - loss: 0.4667 - val_accuracy: 0.6568 - val_loss: 0.6821\n",
            "Epoch 18/20\n",
            "438/438 - 3s - 6ms/step - accuracy: 0.7820 - loss: 0.4569 - val_accuracy: 0.6631 - val_loss: 0.6871\n",
            "Epoch 19/20\n",
            "438/438 - 3s - 6ms/step - accuracy: 0.7914 - loss: 0.4423 - val_accuracy: 0.6648 - val_loss: 0.7002\n",
            "Epoch 20/20\n",
            "438/438 - 3s - 6ms/step - accuracy: 0.7963 - loss: 0.4323 - val_accuracy: 0.6514 - val_loss: 0.7334\n",
            "\u001b[1m94/94\u001b[0m \u001b[32m━━━━━━━━━━━━━━━━━━━━\u001b[0m\u001b[37m\u001b[0m \u001b[1m0s\u001b[0m 3ms/step\n",
            "\n",
            "Model 1 (Adam, no reg, no early stopping) Performance on Test Set:\n",
            "Accuracy: 0.6463\n",
            "Precision: 0.6572\n",
            "Recall: 0.6030\n",
            "F1-score: 0.6289\n",
            "Confusion Matrix:\n",
            "[[1040  469]\n",
            " [ 592  899]]\n",
            "\n",
            "Classification Report:\n",
            "              precision    recall  f1-score   support\n",
            "\n",
            "           0     0.6373    0.6892    0.6622      1509\n",
            "           1     0.6572    0.6030    0.6289      1491\n",
            "\n",
            "    accuracy                         0.6463      3000\n",
            "   macro avg     0.6472    0.6461    0.6456      3000\n",
            "weighted avg     0.6471    0.6463    0.6457      3000\n",
            "\n"
          ]
        },
        {
          "output_type": "display_data",
          "data": {
            "text/plain": [
              "<Figure size 640x480 with 1 Axes>"
            ],
            "image/png": "[encoded data removed]"
          },
          "metadata": {}
        }
      ]
    },
    {
      "cell_type": "code",
      "source": [
        "# Instance 2: RMSprop optimizer, L2 regularization, early stopping, dropout 0.3\n",
        "model_2, callbacks_2 = define_model(optimization='rmsprop', regularization_datatype='l2', early_stopping=True,\n",
        "                                    dropout=0.3, learning_rate=0.001, num_layers=4,\n",
        "                                    units_per_layer=[256, 128, 64, 32], input_dim=input_dim)\n",
        "history_2 = model_2.fit(X_train_tfidf, y_train, validation_data=(X_val_tfidf, y_val), epochs=epochs,\n",
        "                        batch_size=batch_size, verbose=2, callbacks=callbacks_2)\n",
        "y_pred_prob_2 = model_2.predict(X_test_tfidf)\n",
        "y_pred_2 = (y_pred_prob_2 > 0.5).astype(int).flatten()\n",
        "print_evaluation_metrics(y_test, y_pred_2, \"Model 2 (RMSprop, L2, early stopping, dropout)\")\n",
        "loss_curve_plot(history_2)\n",
        "\n",
        "model_2.save('saved_models/model_2_rmsprop_l2_earlystop_dropout.keras')"
      ],
      "metadata": {
        "colab": {
          "base_uri": "https://localhost:8080/",
          "height": 1000
        },
        "id": "N1uBWOPOGwZo",
        "outputId": "8fd474cf-82be-4e01-98f8-87976df04149"
      },
      "execution_count": null,
      "outputs": [
        {
          "output_type": "stream",
          "name": "stdout",
          "text": [
            "Epoch 1/20\n"
          ]
        },
        {
          "output_type": "stream",
          "name": "stderr",
          "text": [
            "/usr/local/lib/python3.11/dist-packages/keras/src/layers/core/dense.py:87: UserWarning: Do not pass an `input_shape`/`input_dim` argument to a layer. When using Sequential models, prefer using an `Input(shape)` object as the first layer in the model instead.\n",
            "  super().__init__(activity_regularizer=activity_regularizer, **kwargs)\n"
          ]
        },
        {
          "output_type": "stream",
          "name": "stdout",
          "text": [
            "438/438 - 6s - 13ms/step - accuracy: 0.6022 - loss: 2.3616 - val_accuracy: 0.5038 - val_loss: 1.6173\n",
            "Epoch 2/20\n",
            "438/438 - 2s - 4ms/step - accuracy: 0.6463 - loss: 1.1414 - val_accuracy: 0.6618 - val_loss: 0.8642\n",
            "Epoch 3/20\n",
            "438/438 - 3s - 7ms/step - accuracy: 0.6744 - loss: 0.7503 - val_accuracy: 0.6738 - val_loss: 0.6719\n",
            "Epoch 4/20\n",
            "438/438 - 2s - 5ms/step - accuracy: 0.6858 - loss: 0.6493 - val_accuracy: 0.6858 - val_loss: 0.6250\n",
            "Epoch 5/20\n",
            "438/438 - 3s - 6ms/step - accuracy: 0.6809 - loss: 0.6305 - val_accuracy: 0.6881 - val_loss: 0.6208\n",
            "Epoch 6/20\n",
            "438/438 - 2s - 5ms/step - accuracy: 0.6835 - loss: 0.6240 - val_accuracy: 0.6934 - val_loss: 0.6093\n",
            "Epoch 7/20\n",
            "438/438 - 1s - 3ms/step - accuracy: 0.6836 - loss: 0.6207 - val_accuracy: 0.6838 - val_loss: 0.6119\n",
            "Epoch 8/20\n",
            "438/438 - 1s - 3ms/step - accuracy: 0.6841 - loss: 0.6179 - val_accuracy: 0.6948 - val_loss: 0.6116\n",
            "Epoch 9/20\n",
            "438/438 - 3s - 7ms/step - accuracy: 0.6832 - loss: 0.6180 - val_accuracy: 0.6944 - val_loss: 0.6003\n",
            "Epoch 10/20\n",
            "438/438 - 2s - 5ms/step - accuracy: 0.6864 - loss: 0.6154 - val_accuracy: 0.6851 - val_loss: 0.6090\n",
            "Epoch 11/20\n",
            "438/438 - 1s - 3ms/step - accuracy: 0.6809 - loss: 0.6167 - val_accuracy: 0.6784 - val_loss: 0.6058\n",
            "Epoch 12/20\n",
            "438/438 - 2s - 3ms/step - accuracy: 0.6825 - loss: 0.6124 - val_accuracy: 0.6911 - val_loss: 0.6113\n",
            "Epoch 13/20\n",
            "438/438 - 3s - 6ms/step - accuracy: 0.6824 - loss: 0.6140 - val_accuracy: 0.6851 - val_loss: 0.6086\n",
            "Epoch 14/20\n",
            "438/438 - 3s - 6ms/step - accuracy: 0.6841 - loss: 0.6089 - val_accuracy: 0.6888 - val_loss: 0.6037\n",
            "\u001b[1m94/94\u001b[0m \u001b[32m━━━━━━━━━━━━━━━━━━━━\u001b[0m\u001b[37m\u001b[0m \u001b[1m0s\u001b[0m 3ms/step\n",
            "\n",
            "Model 2 (RMSprop, L2, early stopping, dropout) Performance on Test Set:\n",
            "Accuracy: 0.6840\n",
            "Precision: 0.7037\n",
            "Recall: 0.6291\n",
            "F1-score: 0.6643\n",
            "Confusion Matrix:\n",
            "[[1114  395]\n",
            " [ 553  938]]\n",
            "\n",
            "Classification Report:\n",
            "              precision    recall  f1-score   support\n",
            "\n",
            "           0     0.6683    0.7382    0.7015      1509\n",
            "           1     0.7037    0.6291    0.6643      1491\n",
            "\n",
            "    accuracy                         0.6840      3000\n",
            "   macro avg     0.6860    0.6837    0.6829      3000\n",
            "weighted avg     0.6859    0.6840    0.6830      3000\n",
            "\n"
          ]
        },
        {
          "output_type": "display_data",
          "data": {
            "text/plain": [
              "<Figure size 640x480 with 1 Axes>"
            ],
            "image/png": "[encoded data removed]"
          },
          "metadata": {}
        }
      ]
    },
    {
      "cell_type": "code",
      "source": [
        "# Instance 3: Adam optimizer, L1 regularization, early stopping, dropout 0.5, learning rate 0.0005\n",
        "model_3, callbacks_3 = define_model(optimization='adam', regularization_datatype='l1', early_stopping=True,\n",
        "                                    dropout=0.5, learning_rate=0.0005, num_layers=3,\n",
        "                                    units_per_layer=[64, 32, 16], input_dim=input_dim)\n",
        "history_3 = model_3.fit(X_train_tfidf, y_train, validation_data=(X_val_tfidf, y_val), epochs=epochs,\n",
        "                        batch_size=batch_size, verbose=2, callbacks=callbacks_3)\n",
        "y_pred_prob_3 = model_3.predict(X_test_tfidf)\n",
        "y_pred_3 = (y_pred_prob_3 > 0.5).astype(int).flatten()\n",
        "print_evaluation_metrics(y_test, y_pred_3, \"Model 3 (Adam, L1, early stopping, dropout, lr=0.0005)\")\n",
        "loss_curve_plot(history_3)\n",
        "\n",
        "model_3.save('saved_models/model_3_adam_l1_earlystop_dropout.keras')"
      ],
      "metadata": {
        "colab": {
          "base_uri": "https://localhost:8080/",
          "height": 1000
        },
        "id": "e-5ch9dHG6CO",
        "outputId": "03501889-4d9c-4fbe-b71c-6193b062e979"
      },
      "execution_count": null,
      "outputs": [
        {
          "output_type": "stream",
          "name": "stdout",
          "text": [
            "Epoch 1/20\n"
          ]
        },
        {
          "output_type": "stream",
          "name": "stderr",
          "text": [
            "/usr/local/lib/python3.11/dist-packages/keras/src/layers/core/dense.py:87: UserWarning: Do not pass an `input_shape`/`input_dim` argument to a layer. When using Sequential models, prefer using an `Input(shape)` object as the first layer in the model instead.\n",
            "  super().__init__(activity_regularizer=activity_regularizer, **kwargs)\n"
          ]
        },
        {
          "output_type": "stream",
          "name": "stdout",
          "text": [
            "438/438 - 3s - 8ms/step - accuracy: 0.5332 - loss: 4.0354 - val_accuracy: 0.5998 - val_loss: 2.9908\n",
            "Epoch 2/20\n",
            "438/438 - 1s - 3ms/step - accuracy: 0.5601 - loss: 2.5078 - val_accuracy: 0.6455 - val_loss: 1.9320\n",
            "Epoch 3/20\n",
            "438/438 - 1s - 3ms/step - accuracy: 0.5969 - loss: 1.6302 - val_accuracy: 0.6441 - val_loss: 1.2916\n",
            "Epoch 4/20\n",
            "438/438 - 1s - 3ms/step - accuracy: 0.6250 - loss: 1.1068 - val_accuracy: 0.6361 - val_loss: 0.9211\n",
            "Epoch 5/20\n",
            "438/438 - 1s - 3ms/step - accuracy: 0.6514 - loss: 0.8176 - val_accuracy: 0.6325 - val_loss: 0.7466\n",
            "Epoch 6/20\n",
            "438/438 - 1s - 3ms/step - accuracy: 0.6635 - loss: 0.6947 - val_accuracy: 0.6578 - val_loss: 0.6649\n",
            "Epoch 7/20\n",
            "438/438 - 2s - 4ms/step - accuracy: 0.6715 - loss: 0.6596 - val_accuracy: 0.6804 - val_loss: 0.6362\n",
            "Epoch 8/20\n",
            "438/438 - 2s - 5ms/step - accuracy: 0.6680 - loss: 0.6513 - val_accuracy: 0.6861 - val_loss: 0.6244\n",
            "Epoch 9/20\n",
            "438/438 - 2s - 5ms/step - accuracy: 0.6718 - loss: 0.6458 - val_accuracy: 0.6841 - val_loss: 0.6204\n",
            "Epoch 10/20\n",
            "438/438 - 1s - 3ms/step - accuracy: 0.6755 - loss: 0.6472 - val_accuracy: 0.6794 - val_loss: 0.6287\n",
            "Epoch 11/20\n",
            "438/438 - 1s - 3ms/step - accuracy: 0.6762 - loss: 0.6464 - val_accuracy: 0.6931 - val_loss: 0.6194\n",
            "Epoch 12/20\n",
            "438/438 - 1s - 3ms/step - accuracy: 0.6762 - loss: 0.6443 - val_accuracy: 0.6834 - val_loss: 0.6247\n",
            "Epoch 13/20\n",
            "438/438 - 1s - 3ms/step - accuracy: 0.6731 - loss: 0.6461 - val_accuracy: 0.6941 - val_loss: 0.6201\n",
            "Epoch 14/20\n",
            "438/438 - 1s - 3ms/step - accuracy: 0.6743 - loss: 0.6468 - val_accuracy: 0.6911 - val_loss: 0.6162\n",
            "Epoch 15/20\n",
            "438/438 - 3s - 6ms/step - accuracy: 0.6777 - loss: 0.6423 - val_accuracy: 0.6898 - val_loss: 0.6225\n",
            "Epoch 16/20\n",
            "438/438 - 2s - 5ms/step - accuracy: 0.6770 - loss: 0.6431 - val_accuracy: 0.6814 - val_loss: 0.6283\n",
            "Epoch 17/20\n",
            "438/438 - 1s - 3ms/step - accuracy: 0.6743 - loss: 0.6445 - val_accuracy: 0.6828 - val_loss: 0.6225\n",
            "Epoch 18/20\n",
            "438/438 - 1s - 3ms/step - accuracy: 0.6803 - loss: 0.6389 - val_accuracy: 0.6981 - val_loss: 0.6243\n",
            "Epoch 19/20\n",
            "438/438 - 1s - 3ms/step - accuracy: 0.6773 - loss: 0.6455 - val_accuracy: 0.6871 - val_loss: 0.6245\n",
            "\u001b[1m94/94\u001b[0m \u001b[32m━━━━━━━━━━━━━━━━━━━━\u001b[0m\u001b[37m\u001b[0m \u001b[1m0s\u001b[0m 2ms/step\n",
            "\n",
            "Model 3 (Adam, L1, early stopping, dropout, lr=0.0005) Performance on Test Set:\n",
            "Accuracy: 0.6900\n",
            "Precision: 0.6886\n",
            "Recall: 0.6868\n",
            "F1-score: 0.6877\n",
            "Confusion Matrix:\n",
            "[[1046  463]\n",
            " [ 467 1024]]\n",
            "\n",
            "Classification Report:\n",
            "              precision    recall  f1-score   support\n",
            "\n",
            "           0     0.6913    0.6932    0.6923      1509\n",
            "           1     0.6886    0.6868    0.6877      1491\n",
            "\n",
            "    accuracy                         0.6900      3000\n",
            "   macro avg     0.6900    0.6900    0.6900      3000\n",
            "weighted avg     0.6900    0.6900    0.6900      3000\n",
            "\n"
          ]
        },
        {
          "output_type": "display_data",
          "data": {
            "text/plain": [
              "<Figure size 640x480 with 1 Axes>"
            ],
            "image/png": "[encoded data removed]"
          },
          "metadata": {}
        }
      ]
    },
    {
      "cell_type": "code",
      "source": [
        "# Instance 4: RMSprop optimizer, L1_L2 regularization, early stopping, dropout 0.4, learning rate 0.0007, 3 layers\n",
        "model_4, callbacks_4 = define_model(\n",
        "    optimization='rmsprop',\n",
        "    regularization_datatype='l1_l2',\n",
        "    early_stopping=True,\n",
        "    dropout=0.4,\n",
        "    learning_rate=0.0007,\n",
        "    num_layers=5,\n",
        "    units_per_layer=[256, 128, 64, 32, 16],\n",
        "    input_dim=input_dim\n",
        ")\n",
        "\n",
        "history_4 = model_4.fit(\n",
        "    X_train_tfidf, y_train,\n",
        "    validation_data=(X_val_tfidf, y_val),\n",
        "    epochs=20,\n",
        "    batch_size=32,\n",
        "    verbose=2,\n",
        "    callbacks=callbacks_4\n",
        ")\n",
        "\n",
        "y_pred_prob_4 = model_4.predict(X_test_tfidf)\n",
        "y_pred_4 = (y_pred_prob_4 > 0.5).astype(int).flatten()\n",
        "\n",
        "print_evaluation_metrics(y_test, y_pred_4, \"Model 4 (RMSprop, L1_L2, early stopping, dropout 0.4, lr=0.0007)\")\n",
        "loss_curve_plot(history_4)\n",
        "\n",
        "model_4.save('saved_models/model_4_rmsprop_l1l2_earlystop_dropout.keras')"
      ],
      "metadata": {
        "colab": {
          "base_uri": "https://localhost:8080/",
          "height": 1000
        },
        "id": "pv48GqbsPcuv",
        "outputId": "086cc4b1-186e-4479-eb49-3b66ef633f21"
      },
      "execution_count": null,
      "outputs": [
        {
          "output_type": "stream",
          "name": "stdout",
          "text": [
            "Epoch 1/20\n",
            "438/438 - 5s - 12ms/step - accuracy: 0.5457 - loss: 16.3900 - val_accuracy: 0.5032 - val_loss: 5.8895\n",
            "Epoch 2/20\n",
            "438/438 - 2s - 5ms/step - accuracy: 0.6130 - loss: 3.0299 - val_accuracy: 0.6668 - val_loss: 1.5406\n",
            "Epoch 3/20\n",
            "438/438 - 2s - 4ms/step - accuracy: 0.6383 - loss: 1.1581 - val_accuracy: 0.6081 - val_loss: 1.0023\n",
            "Epoch 4/20\n",
            "438/438 - 3s - 6ms/step - accuracy: 0.6628 - loss: 0.9065 - val_accuracy: 0.6654 - val_loss: 0.8934\n",
            "Epoch 5/20\n",
            "438/438 - 2s - 4ms/step - accuracy: 0.6710 - loss: 0.8661 - val_accuracy: 0.6554 - val_loss: 0.8828\n",
            "Epoch 6/20\n",
            "438/438 - 2s - 4ms/step - accuracy: 0.6715 - loss: 0.8537 - val_accuracy: 0.6868 - val_loss: 0.8231\n",
            "Epoch 7/20\n",
            "438/438 - 3s - 6ms/step - accuracy: 0.6720 - loss: 0.8476 - val_accuracy: 0.6828 - val_loss: 0.8350\n",
            "Epoch 8/20\n",
            "438/438 - 3s - 6ms/step - accuracy: 0.6712 - loss: 0.8441 - val_accuracy: 0.6754 - val_loss: 0.8365\n",
            "Epoch 9/20\n",
            "438/438 - 2s - 4ms/step - accuracy: 0.6730 - loss: 0.8495 - val_accuracy: 0.6838 - val_loss: 0.8256\n",
            "Epoch 10/20\n",
            "438/438 - 3s - 6ms/step - accuracy: 0.6735 - loss: 0.8469 - val_accuracy: 0.6848 - val_loss: 0.8199\n",
            "Epoch 11/20\n",
            "438/438 - 2s - 4ms/step - accuracy: 0.6755 - loss: 0.8436 - val_accuracy: 0.6864 - val_loss: 0.8100\n",
            "Epoch 12/20\n",
            "438/438 - 2s - 4ms/step - accuracy: 0.6748 - loss: 0.8461 - val_accuracy: 0.6891 - val_loss: 0.8143\n",
            "Epoch 13/20\n",
            "438/438 - 2s - 4ms/step - accuracy: 0.6753 - loss: 0.8486 - val_accuracy: 0.6824 - val_loss: 0.8321\n",
            "Epoch 14/20\n",
            "438/438 - 3s - 6ms/step - accuracy: 0.6729 - loss: 0.8469 - val_accuracy: 0.6824 - val_loss: 0.8255\n",
            "Epoch 15/20\n",
            "438/438 - 2s - 5ms/step - accuracy: 0.6689 - loss: 0.8515 - val_accuracy: 0.6871 - val_loss: 0.8433\n",
            "Epoch 16/20\n",
            "438/438 - 3s - 6ms/step - accuracy: 0.6740 - loss: 0.8481 - val_accuracy: 0.6791 - val_loss: 0.8496\n",
            "\u001b[1m94/94\u001b[0m \u001b[32m━━━━━━━━━━━━━━━━━━━━\u001b[0m\u001b[37m\u001b[0m \u001b[1m0s\u001b[0m 3ms/step\n",
            "\n",
            "Model 4 (RMSprop, L1_L2, early stopping, dropout 0.4, lr=0.0007) Performance on Test Set:\n",
            "Accuracy: 0.6787\n",
            "Precision: 0.7022\n",
            "Recall: 0.6137\n",
            "F1-score: 0.6550\n",
            "Confusion Matrix:\n",
            "[[1121  388]\n",
            " [ 576  915]]\n",
            "\n",
            "Classification Report:\n",
            "              precision    recall  f1-score   support\n",
            "\n",
            "           0     0.6606    0.7429    0.6993      1509\n",
            "           1     0.7022    0.6137    0.6550      1491\n",
            "\n",
            "    accuracy                         0.6787      3000\n",
            "   macro avg     0.6814    0.6783    0.6771      3000\n",
            "weighted avg     0.6813    0.6787    0.6773      3000\n",
            "\n"
          ]
        },
        {
          "output_type": "display_data",
          "data": {
            "text/plain": [
              "<Figure size 640x480 with 1 Axes>"
            ],
            "image/png": "[encoded data removed]"
          },
          "metadata": {}
        }
      ]
    },
    {
      "cell_type": "code",
      "source": [
        "results_data = {\n",
        "    'Training Instance': ['Instance 1', 'Instance 2', 'Instance 3', 'Instance 4', 'Instance 5 (Opt.)'],\n",
        "    'Optimizer Used': ['Adam', 'RMSprop', 'Adam', 'RMSprop', 'TBD'],\n",
        "    'Regularizer Used': ['None', 'L2', 'L1', 'L1_L2', 'TBD'],\n",
        "    'Epochs': [20, 20, 20, 20, 'TBD'],\n",
        "    'Early Stopping': ['No', 'Yes', 'Yes', 'Yes', 'TBD'],\n",
        "    'Number of Layers': [2, 3, 2, 3, 'TBD'],\n",
        "    'Learning Rate': [0.001, 0.001, 0.0005, 0.0007, 'TBD'],\n",
        "    'Accuracy': [0.6463, 0.6840, 0.6900, 0.6787, 'TBD'],\n",
        "    'F1 Score': [0.6289, 0.6643, 0.6877, 0.6550, 'TBD'],\n",
        "    'Recall': [0.6030, 0.6291, 0.6868, 0.6137, 'TBD'],\n",
        "    'Precision': [0.6572, 0.7037, 0.6886, 0.7022, 'TBD']\n",
        "}\n",
        "\n",
        "results_df = pd.DataFrame(results_data)\n",
        "\n",
        "# Apply border style\n",
        "styled_table = results_df.style.set_table_styles(\n",
        "    [{'selector': '', 'props': [('border', '1px solid black')]}]\n",
        ").set_properties(**{'border': '1px solid white'})\n",
        "\n",
        "styled_table"
      ],
      "metadata": {
        "colab": {
          "base_uri": "https://localhost:8080/",
          "height": 247
        },
        "id": "Gs_A-tfdQy9Y",
        "outputId": "55905ded-8874-4d8a-8504-04fe6b5936f9"
      },
      "execution_count": null,
      "outputs": [
        {
          "output_type": "execute_result",
          "data": {
            "text/plain": [
              "<pandas.io.formats.style.Styler at 0x7c41a4168d90>"
            ],
            "text/html": [
              "<style type=\"text/css\">\n",
              "#T_aae5c  {\n",
              "  border: 1px solid black;\n",
              "}\n",
              "#T_aae5c_row0_col0, #T_aae5c_row0_col1, #T_aae5c_row0_col2, #T_aae5c_row0_col3, #T_aae5c_row0_col4, #T_aae5c_row0_col5, #T_aae5c_row0_col6, #T_aae5c_row0_col7, #T_aae5c_row0_col8, #T_aae5c_row0_col9, #T_aae5c_row0_col10, #T_aae5c_row1_col0, #T_aae5c_row1_col1, #T_aae5c_row1_col2, #T_aae5c_row1_col3, #T_aae5c_row1_col4, #T_aae5c_row1_col5, #T_aae5c_row1_col6, #T_aae5c_row1_col7, #T_aae5c_row1_col8, #T_aae5c_row1_col9, #T_aae5c_row1_col10, #T_aae5c_row2_col0, #T_aae5c_row2_col1, #T_aae5c_row2_col2, #T_aae5c_row2_col3, #T_aae5c_row2_col4, #T_aae5c_row2_col5, #T_aae5c_row2_col6, #T_aae5c_row2_col7, #T_aae5c_row2_col8, #T_aae5c_row2_col9, #T_aae5c_row2_col10, #T_aae5c_row3_col0, #T_aae5c_row3_col1, #T_aae5c_row3_col2, #T_aae5c_row3_col3, #T_aae5c_row3_col4, #T_aae5c_row3_col5, #T_aae5c_row3_col6, #T_aae5c_row3_col7, #T_aae5c_row3_col8, #T_aae5c_row3_col9, #T_aae5c_row3_col10, #T_aae5c_row4_col0, #T_aae5c_row4_col1, #T_aae5c_row4_col2, #T_aae5c_row4_col3, #T_aae5c_row4_col4, #T_aae5c_row4_col5, #T_aae5c_row4_col6, #T_aae5c_row4_col7, #T_aae5c_row4_col8, #T_aae5c_row4_col9, #T_aae5c_row4_col10 {\n",
              "  border: 1px solid white;\n",
              "}\n",
              "</style>\n",
              "<table id=\"T_aae5c\" class=\"dataframe\">\n",
              "  <thead>\n",
              "    <tr>\n",
              "      <th class=\"blank level0\" >&nbsp;</th>\n",
              "      <th id=\"T_aae5c_level0_col0\" class=\"col_heading level0 col0\" >Training Instance</th>\n",
              "      <th id=\"T_aae5c_level0_col1\" class=\"col_heading level0 col1\" >Optimizer Used</th>\n",
              "      <th id=\"T_aae5c_level0_col2\" class=\"col_heading level0 col2\" >Regularizer Used</th>\n",
              "      <th id=\"T_aae5c_level0_col3\" class=\"col_heading level0 col3\" >Epochs</th>\n",
              "      <th id=\"T_aae5c_level0_col4\" class=\"col_heading level0 col4\" >Early Stopping</th>\n",
              "      <th id=\"T_aae5c_level0_col5\" class=\"col_heading level0 col5\" >Number of Layers</th>\n",
              "      <th id=\"T_aae5c_level0_col6\" class=\"col_heading level0 col6\" >Learning Rate</th>\n",
              "      <th id=\"T_aae5c_level0_col7\" class=\"col_heading level0 col7\" >Accuracy</th>\n",
              "      <th id=\"T_aae5c_level0_col8\" class=\"col_heading level0 col8\" >F1 Score</th>\n",
              "      <th id=\"T_aae5c_level0_col9\" class=\"col_heading level0 col9\" >Recall</th>\n",
              "      <th id=\"T_aae5c_level0_col10\" class=\"col_heading level0 col10\" >Precision</th>\n",
              "    </tr>\n",
              "  </thead>\n",
              "  <tbody>\n",
              "    <tr>\n",
              "      <th id=\"T_aae5c_level0_row0\" class=\"row_heading level0 row0\" >0</th>\n",
              "      <td id=\"T_aae5c_row0_col0\" class=\"data row0 col0\" >Instance 1</td>\n",
              "      <td id=\"T_aae5c_row0_col1\" class=\"data row0 col1\" >Adam</td>\n",
              "      <td id=\"T_aae5c_row0_col2\" class=\"data row0 col2\" >None</td>\n",
              "      <td id=\"T_aae5c_row0_col3\" class=\"data row0 col3\" >20</td>\n",
              "      <td id=\"T_aae5c_row0_col4\" class=\"data row0 col4\" >No</td>\n",
              "      <td id=\"T_aae5c_row0_col5\" class=\"data row0 col5\" >2</td>\n",
              "      <td id=\"T_aae5c_row0_col6\" class=\"data row0 col6\" >0.001000</td>\n",
              "      <td id=\"T_aae5c_row0_col7\" class=\"data row0 col7\" >0.646300</td>\n",
              "      <td id=\"T_aae5c_row0_col8\" class=\"data row0 col8\" >0.628900</td>\n",
              "      <td id=\"T_aae5c_row0_col9\" class=\"data row0 col9\" >0.603000</td>\n",
              "      <td id=\"T_aae5c_row0_col10\" class=\"data row0 col10\" >0.657200</td>\n",
              "    </tr>\n",
              "    <tr>\n",
              "      <th id=\"T_aae5c_level0_row1\" class=\"row_heading level0 row1\" >1</th>\n",
              "      <td id=\"T_aae5c_row1_col0\" class=\"data row1 col0\" >Instance 2</td>\n",
              "      <td id=\"T_aae5c_row1_col1\" class=\"data row1 col1\" >RMSprop</td>\n",
              "      <td id=\"T_aae5c_row1_col2\" class=\"data row1 col2\" >L2</td>\n",
              "      <td id=\"T_aae5c_row1_col3\" class=\"data row1 col3\" >20</td>\n",
              "      <td id=\"T_aae5c_row1_col4\" class=\"data row1 col4\" >Yes</td>\n",
              "      <td id=\"T_aae5c_row1_col5\" class=\"data row1 col5\" >3</td>\n",
              "      <td id=\"T_aae5c_row1_col6\" class=\"data row1 col6\" >0.001000</td>\n",
              "      <td id=\"T_aae5c_row1_col7\" class=\"data row1 col7\" >0.684000</td>\n",
              "      <td id=\"T_aae5c_row1_col8\" class=\"data row1 col8\" >0.664300</td>\n",
              "      <td id=\"T_aae5c_row1_col9\" class=\"data row1 col9\" >0.629100</td>\n",
              "      <td id=\"T_aae5c_row1_col10\" class=\"data row1 col10\" >0.703700</td>\n",
              "    </tr>\n",
              "    <tr>\n",
              "      <th id=\"T_aae5c_level0_row2\" class=\"row_heading level0 row2\" >2</th>\n",
              "      <td id=\"T_aae5c_row2_col0\" class=\"data row2 col0\" >Instance 3</td>\n",
              "      <td id=\"T_aae5c_row2_col1\" class=\"data row2 col1\" >Adam</td>\n",
              "      <td id=\"T_aae5c_row2_col2\" class=\"data row2 col2\" >L1</td>\n",
              "      <td id=\"T_aae5c_row2_col3\" class=\"data row2 col3\" >20</td>\n",
              "      <td id=\"T_aae5c_row2_col4\" class=\"data row2 col4\" >Yes</td>\n",
              "      <td id=\"T_aae5c_row2_col5\" class=\"data row2 col5\" >2</td>\n",
              "      <td id=\"T_aae5c_row2_col6\" class=\"data row2 col6\" >0.000500</td>\n",
              "      <td id=\"T_aae5c_row2_col7\" class=\"data row2 col7\" >0.690000</td>\n",
              "      <td id=\"T_aae5c_row2_col8\" class=\"data row2 col8\" >0.687700</td>\n",
              "      <td id=\"T_aae5c_row2_col9\" class=\"data row2 col9\" >0.686800</td>\n",
              "      <td id=\"T_aae5c_row2_col10\" class=\"data row2 col10\" >0.688600</td>\n",
              "    </tr>\n",
              "    <tr>\n",
              "      <th id=\"T_aae5c_level0_row3\" class=\"row_heading level0 row3\" >3</th>\n",
              "      <td id=\"T_aae5c_row3_col0\" class=\"data row3 col0\" >Instance 4</td>\n",
              "      <td id=\"T_aae5c_row3_col1\" class=\"data row3 col1\" >RMSprop</td>\n",
              "      <td id=\"T_aae5c_row3_col2\" class=\"data row3 col2\" >L1_L2</td>\n",
              "      <td id=\"T_aae5c_row3_col3\" class=\"data row3 col3\" >20</td>\n",
              "      <td id=\"T_aae5c_row3_col4\" class=\"data row3 col4\" >Yes</td>\n",
              "      <td id=\"T_aae5c_row3_col5\" class=\"data row3 col5\" >3</td>\n",
              "      <td id=\"T_aae5c_row3_col6\" class=\"data row3 col6\" >0.000700</td>\n",
              "      <td id=\"T_aae5c_row3_col7\" class=\"data row3 col7\" >0.678700</td>\n",
              "      <td id=\"T_aae5c_row3_col8\" class=\"data row3 col8\" >0.655000</td>\n",
              "      <td id=\"T_aae5c_row3_col9\" class=\"data row3 col9\" >0.613700</td>\n",
              "      <td id=\"T_aae5c_row3_col10\" class=\"data row3 col10\" >0.702200</td>\n",
              "    </tr>\n",
              "    <tr>\n",
              "      <th id=\"T_aae5c_level0_row4\" class=\"row_heading level0 row4\" >4</th>\n",
              "      <td id=\"T_aae5c_row4_col0\" class=\"data row4 col0\" >Instance 5 (Opt.)</td>\n",
              "      <td id=\"T_aae5c_row4_col1\" class=\"data row4 col1\" >TBD</td>\n",
              "      <td id=\"T_aae5c_row4_col2\" class=\"data row4 col2\" >TBD</td>\n",
              "      <td id=\"T_aae5c_row4_col3\" class=\"data row4 col3\" >TBD</td>\n",
              "      <td id=\"T_aae5c_row4_col4\" class=\"data row4 col4\" >TBD</td>\n",
              "      <td id=\"T_aae5c_row4_col5\" class=\"data row4 col5\" >TBD</td>\n",
              "      <td id=\"T_aae5c_row4_col6\" class=\"data row4 col6\" >TBD</td>\n",
              "      <td id=\"T_aae5c_row4_col7\" class=\"data row4 col7\" >TBD</td>\n",
              "      <td id=\"T_aae5c_row4_col8\" class=\"data row4 col8\" >TBD</td>\n",
              "      <td id=\"T_aae5c_row4_col9\" class=\"data row4 col9\" >TBD</td>\n",
              "      <td id=\"T_aae5c_row4_col10\" class=\"data row4 col10\" >TBD</td>\n",
              "    </tr>\n",
              "  </tbody>\n",
              "</table>\n"
            ]
          },
          "metadata": {},
          "execution_count": 149
        }
      ]
    },
    {
      "cell_type": "markdown",
      "source": [
        "#Task: Make Predictions using the best saved model\n"
      ],
      "metadata": {
        "id": "3aZLEriYOXI1"
      }
    },
    {
      "cell_type": "markdown",
      "source": [
        "Create a confusion Matrix and F1 score for both Models. Ensure outputs for the cells are visible"
      ],
      "metadata": {
        "id": "LnBLwqTJX3p0"
      }
    },
    {
      "cell_type": "code",
      "source": [
        "def plot_confusion_and_f1(y_true, y_pred, model_name):\n",
        "    cm = confusion_matrix(y_true, y_pred)\n",
        "    f1 = f1_score(y_true, y_pred)\n",
        "\n",
        "    print(f\"Confusion Matrix for {model_name}:\\n{cm}\")\n",
        "    print(f\"F1 Score for {model_name}: {f1:.4f}\")\n",
        "\n",
        "    disp = ConfusionMatrixDisplay(confusion_matrix=cm)\n",
        "    disp.plot(cmap=plt.cm.Blues)\n",
        "    plt.title(f'Confusion Matrix - {model_name}')\n",
        "    plt.show()\n",
        "\n",
        "# Example usage:\n",
        "plot_confusion_and_f1(y_test, y_pred_1, \"Model 1 (Adam, no reg, no early stopping)\")\n",
        "plot_confusion_and_f1(y_test, y_pred_2, \"Model 2 (RMSprop, L2, early stopping, dropout)\")\n"
      ],
      "metadata": {
        "colab": {
          "base_uri": "https://localhost:8080/",
          "height": 1000
        },
        "id": "VUCx_zS4eHNu",
        "outputId": "4fe128da-08f7-4f99-c4bf-72ebdf7f2b7d"
      },
      "execution_count": null,
      "outputs": [
        {
          "output_type": "stream",
          "name": "stdout",
          "text": [
            "Confusion Matrix for Model 1 (Adam, no reg, no early stopping):\n",
            "[[1040  469]\n",
            " [ 592  899]]\n",
            "F1 Score for Model 1 (Adam, no reg, no early stopping): 0.6289\n"
          ]
        },
        {
          "output_type": "display_data",
          "data": {
            "text/plain": [
              "<Figure size 640x480 with 2 Axes>"
            ],
            "image/png": "[encoded data removed]"
          },
          "metadata": {}
        },
        {
          "output_type": "stream",
          "name": "stdout",
          "text": [
            "Confusion Matrix for Model 2 (RMSprop, L2, early stopping, dropout):\n",
            "[[1114  395]\n",
            " [ 553  938]]\n",
            "F1 Score for Model 2 (RMSprop, L2, early stopping, dropout): 0.6643\n"
          ]
        },
        {
          "output_type": "display_data",
          "data": {
            "text/plain": [
              "<Figure size 640x480 with 2 Axes>"
            ],
            "image/png": "[encoded data removed]"
          },
          "metadata": {}
        }
      ]
    },
    {
      "cell_type": "markdown",
      "source": [
        "Finally, Make predictions using the best model. By the time you get to this cell you may realise at some point you needed to save the model so that you cal load it later"
      ],
      "metadata": {
        "id": "bO79SOsZYG-M"
      }
    },
    {
      "cell_type": "code",
      "source": [
        "def make_predictions(model_path, X):\n",
        "    \"\"\"\n",
        "    Load a saved Keras model and make binary predictions on input data X.\n",
        "\n",
        "    Parameters:\n",
        "    - model_path (str): Path to the saved Keras model file (.keras or .h5)\n",
        "    - X (array-like): Input features for prediction\n",
        "\n",
        "    Returns:\n",
        "    - predictions (np.ndarray): Binary predictions (0 or 1)\n",
        "    \"\"\"\n",
        "    # Load the model\n",
        "    model = load_model(model_path)\n",
        "\n",
        "    # Make probability predictions\n",
        "    prob_predictions = model.predict(X)\n",
        "\n",
        "    # Convert probabilities to binary labels (threshold 0.5)\n",
        "    predictions = (prob_predictions > 0.5).astype(int).flatten()\n",
        "\n",
        "    return predictions"
      ],
      "metadata": {
        "id": "Nqqe2PasUIAG"
      },
      "execution_count": null,
      "outputs": []
    },
    {
      "cell_type": "code",
      "source": [
        "model_path = '/content/saved_models/model_3_adam_l1_earlystop_dropout.keras'\n",
        "\n",
        "try:\n",
        "    preds = make_predictions(model_path, X_test_tfidf)\n",
        "    print(\"Predictions made successfully.\")\n",
        "except ValueError as e:\n",
        "    print(f\"Error: {e}\")"
      ],
      "metadata": {
        "colab": {
          "base_uri": "https://localhost:8080/"
        },
        "id": "_pB2XfW0haDM",
        "outputId": "2e7bf6b4-2ee7-4e31-facd-f3ac8fbd3f3b"
      },
      "execution_count": null,
      "outputs": [
        {
          "output_type": "stream",
          "name": "stdout",
          "text": [
            "\u001b[1m94/94\u001b[0m \u001b[32m━━━━━━━━━━━━━━━━━━━━\u001b[0m\u001b[37m\u001b[0m \u001b[1m1s\u001b[0m 4ms/step\n",
            "Predictions made successfully.\n"
          ]
        }
      ]
    },
    {
      "cell_type": "markdown",
      "source": [
        "Congratulations!!\n"
      ],
      "metadata": {
        "id": "rfTHk2nZMzTH"
      }
    }
  ]
}